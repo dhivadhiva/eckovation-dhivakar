{
 "cells": [
  {
   "cell_type": "code",
   "execution_count": 1,
   "metadata": {},
   "outputs": [
    {
     "name": "stdout",
     "output_type": "stream",
     "text": [
      "Collecting mlxtend\n",
      "  Downloading https://files.pythonhosted.org/packages/86/30/781c0b962a70848db83339567ecab656638c62f05adb064cb33c0ae49244/mlxtend-0.18.0-py2.py3-none-any.whl (1.3MB)\n",
      "Requirement already satisfied: numpy>=1.16.2 in c:\\users\\dhiva\\anaconda3\\lib\\site-packages (from mlxtend) (1.16.5)\n",
      "Requirement already satisfied: scikit-learn>=0.20.3 in c:\\users\\dhiva\\anaconda3\\lib\\site-packages (from mlxtend) (0.21.3)\n",
      "Requirement already satisfied: pandas>=0.24.2 in c:\\users\\dhiva\\anaconda3\\lib\\site-packages (from mlxtend) (0.25.1)\n",
      "Requirement already satisfied: setuptools in c:\\users\\dhiva\\anaconda3\\lib\\site-packages (from mlxtend) (41.4.0)\n",
      "Requirement already satisfied: scipy>=1.2.1 in c:\\users\\dhiva\\anaconda3\\lib\\site-packages (from mlxtend) (1.3.1)\n",
      "Requirement already satisfied: joblib>=0.13.2 in c:\\users\\dhiva\\anaconda3\\lib\\site-packages (from mlxtend) (0.13.2)\n",
      "Requirement already satisfied: matplotlib>=3.0.0 in c:\\users\\dhiva\\anaconda3\\lib\\site-packages (from mlxtend) (3.1.1)\n",
      "Requirement already satisfied: python-dateutil>=2.6.1 in c:\\users\\dhiva\\anaconda3\\lib\\site-packages (from pandas>=0.24.2->mlxtend) (2.8.0)\n",
      "Requirement already satisfied: pytz>=2017.2 in c:\\users\\dhiva\\anaconda3\\lib\\site-packages (from pandas>=0.24.2->mlxtend) (2019.3)\n",
      "Requirement already satisfied: cycler>=0.10 in c:\\users\\dhiva\\anaconda3\\lib\\site-packages (from matplotlib>=3.0.0->mlxtend) (0.10.0)\n",
      "Requirement already satisfied: kiwisolver>=1.0.1 in c:\\users\\dhiva\\anaconda3\\lib\\site-packages (from matplotlib>=3.0.0->mlxtend) (1.1.0)\n",
      "Requirement already satisfied: pyparsing!=2.0.4,!=2.1.2,!=2.1.6,>=2.0.1 in c:\\users\\dhiva\\anaconda3\\lib\\site-packages (from matplotlib>=3.0.0->mlxtend) (2.4.2)\n",
      "Requirement already satisfied: six>=1.5 in c:\\users\\dhiva\\anaconda3\\lib\\site-packages (from python-dateutil>=2.6.1->pandas>=0.24.2->mlxtend) (1.15.0)\n",
      "Installing collected packages: mlxtend\n",
      "Successfully installed mlxtend-0.18.0\n"
     ]
    }
   ],
   "source": [
    "! pip install mlxtend"
   ]
  },
  {
   "cell_type": "code",
   "execution_count": 2,
   "metadata": {},
   "outputs": [],
   "source": [
    "import numpy as np\n",
    "import pandas as pd\n",
    "from mlxtend.frequent_patterns import apriori, association_rules"
   ]
  },
  {
   "cell_type": "code",
   "execution_count": 8,
   "metadata": {},
   "outputs": [
    {
     "data": {
      "text/plain": [
       "(21293, 4)"
      ]
     },
     "execution_count": 8,
     "metadata": {},
     "output_type": "execute_result"
    }
   ],
   "source": [
    "df = pd.read_csv(\"BreadBasket_DMS.csv\")\n",
    "df.shape"
   ]
  },
  {
   "cell_type": "code",
   "execution_count": 9,
   "metadata": {},
   "outputs": [
    {
     "data": {
      "text/plain": [
       "Index(['Date', 'Time', 'Transaction', 'Item'], dtype='object')"
      ]
     },
     "execution_count": 9,
     "metadata": {},
     "output_type": "execute_result"
    }
   ],
   "source": [
    "df.columns"
   ]
  },
  {
   "cell_type": "code",
   "execution_count": 10,
   "metadata": {},
   "outputs": [],
   "source": [
    "df1 = df.loc[df[\"Item\"] == \"None\", :]"
   ]
  },
  {
   "cell_type": "code",
   "execution_count": 11,
   "metadata": {},
   "outputs": [],
   "source": [
    "hot_encoded_df = df.groupby([\"Transaction\", \"Item\"])[\"Item\"].count().unstack().reset_index().fillna(0).set_index(\"Transaction\")"
   ]
  },
  {
   "cell_type": "code",
   "execution_count": 12,
   "metadata": {},
   "outputs": [],
   "source": [
    "def encode_units(x):\n",
    "    if x <= 0:\n",
    "        return 0\n",
    "    else:\n",
    "        return 1"
   ]
  },
  {
   "cell_type": "code",
   "execution_count": 13,
   "metadata": {},
   "outputs": [
    {
     "data": {
      "text/plain": [
       "(9531, 95)"
      ]
     },
     "execution_count": 13,
     "metadata": {},
     "output_type": "execute_result"
    }
   ],
   "source": [
    "hot_encoded_df = hot_encoded_df.applymap(encode_units)\n",
    "hot_encoded_df.shape"
   ]
  },
  {
   "cell_type": "code",
   "execution_count": 14,
   "metadata": {},
   "outputs": [
    {
     "data": {
      "text/html": [
       "<div>\n",
       "<style scoped>\n",
       "    .dataframe tbody tr th:only-of-type {\n",
       "        vertical-align: middle;\n",
       "    }\n",
       "\n",
       "    .dataframe tbody tr th {\n",
       "        vertical-align: top;\n",
       "    }\n",
       "\n",
       "    .dataframe thead th {\n",
       "        text-align: right;\n",
       "    }\n",
       "</style>\n",
       "<table border=\"1\" class=\"dataframe\">\n",
       "  <thead>\n",
       "    <tr style=\"text-align: right;\">\n",
       "      <th></th>\n",
       "      <th>support</th>\n",
       "      <th>itemsets</th>\n",
       "    </tr>\n",
       "  </thead>\n",
       "  <tbody>\n",
       "    <tr>\n",
       "      <td>0</td>\n",
       "      <td>0.036093</td>\n",
       "      <td>(Alfajores)</td>\n",
       "    </tr>\n",
       "    <tr>\n",
       "      <td>1</td>\n",
       "      <td>0.015948</td>\n",
       "      <td>(Baguette)</td>\n",
       "    </tr>\n",
       "    <tr>\n",
       "      <td>2</td>\n",
       "      <td>0.005036</td>\n",
       "      <td>(Bakewell)</td>\n",
       "    </tr>\n",
       "    <tr>\n",
       "      <td>3</td>\n",
       "      <td>0.324940</td>\n",
       "      <td>(Bread)</td>\n",
       "    </tr>\n",
       "    <tr>\n",
       "      <td>4</td>\n",
       "      <td>0.039765</td>\n",
       "      <td>(Brownie)</td>\n",
       "    </tr>\n",
       "    <tr>\n",
       "      <td>...</td>\n",
       "      <td>...</td>\n",
       "      <td>...</td>\n",
       "    </tr>\n",
       "    <tr>\n",
       "      <td>120</td>\n",
       "      <td>0.006820</td>\n",
       "      <td>(Hot chocolate, Cake, Coffee)</td>\n",
       "    </tr>\n",
       "    <tr>\n",
       "      <td>121</td>\n",
       "      <td>0.009967</td>\n",
       "      <td>(Tea, Cake, Coffee)</td>\n",
       "    </tr>\n",
       "    <tr>\n",
       "      <td>122</td>\n",
       "      <td>0.005141</td>\n",
       "      <td>(NONE, Sandwich, Coffee)</td>\n",
       "    </tr>\n",
       "    <tr>\n",
       "      <td>123</td>\n",
       "      <td>0.005876</td>\n",
       "      <td>(NONE, Tea, Coffee)</td>\n",
       "    </tr>\n",
       "    <tr>\n",
       "      <td>124</td>\n",
       "      <td>0.005351</td>\n",
       "      <td>(Tea, Sandwich, Coffee)</td>\n",
       "    </tr>\n",
       "  </tbody>\n",
       "</table>\n",
       "<p>125 rows × 2 columns</p>\n",
       "</div>"
      ],
      "text/plain": [
       "      support                       itemsets\n",
       "0    0.036093                    (Alfajores)\n",
       "1    0.015948                     (Baguette)\n",
       "2    0.005036                     (Bakewell)\n",
       "3    0.324940                        (Bread)\n",
       "4    0.039765                      (Brownie)\n",
       "..        ...                            ...\n",
       "120  0.006820  (Hot chocolate, Cake, Coffee)\n",
       "121  0.009967            (Tea, Cake, Coffee)\n",
       "122  0.005141       (NONE, Sandwich, Coffee)\n",
       "123  0.005876            (NONE, Tea, Coffee)\n",
       "124  0.005351        (Tea, Sandwich, Coffee)\n",
       "\n",
       "[125 rows x 2 columns]"
      ]
     },
     "execution_count": 14,
     "metadata": {},
     "output_type": "execute_result"
    }
   ],
   "source": [
    "freq_itemsets = apriori(hot_encoded_df, min_support = 0.005, use_colnames = True)\n",
    "freq_itemsets"
   ]
  },
  {
   "cell_type": "code",
   "execution_count": 15,
   "metadata": {},
   "outputs": [
    {
     "data": {
      "text/plain": [
       "(27, 9)"
      ]
     },
     "execution_count": 15,
     "metadata": {},
     "output_type": "execute_result"
    }
   ],
   "source": [
    "rules = association_rules(freq_itemsets, metric = \"confidence\", min_threshold = 0.4)\n",
    "rules.shape"
   ]
  },
  {
   "cell_type": "code",
   "execution_count": 16,
   "metadata": {},
   "outputs": [
    {
     "data": {
      "text/html": [
       "<div>\n",
       "<style scoped>\n",
       "    .dataframe tbody tr th:only-of-type {\n",
       "        vertical-align: middle;\n",
       "    }\n",
       "\n",
       "    .dataframe tbody tr th {\n",
       "        vertical-align: top;\n",
       "    }\n",
       "\n",
       "    .dataframe thead th {\n",
       "        text-align: right;\n",
       "    }\n",
       "</style>\n",
       "<table border=\"1\" class=\"dataframe\">\n",
       "  <thead>\n",
       "    <tr style=\"text-align: right;\">\n",
       "      <th></th>\n",
       "      <th>antecedents</th>\n",
       "      <th>consequents</th>\n",
       "      <th>antecedent support</th>\n",
       "      <th>consequent support</th>\n",
       "      <th>support</th>\n",
       "      <th>confidence</th>\n",
       "      <th>lift</th>\n",
       "      <th>leverage</th>\n",
       "      <th>conviction</th>\n",
       "    </tr>\n",
       "  </thead>\n",
       "  <tbody>\n",
       "    <tr>\n",
       "      <td>2</td>\n",
       "      <td>(Cake)</td>\n",
       "      <td>(Coffee)</td>\n",
       "      <td>0.103137</td>\n",
       "      <td>0.475081</td>\n",
       "      <td>0.054349</td>\n",
       "      <td>0.526958</td>\n",
       "      <td>1.109196</td>\n",
       "      <td>0.005350</td>\n",
       "      <td>1.109667</td>\n",
       "    </tr>\n",
       "    <tr>\n",
       "      <td>7</td>\n",
       "      <td>(Juice)</td>\n",
       "      <td>(Coffee)</td>\n",
       "      <td>0.038296</td>\n",
       "      <td>0.475081</td>\n",
       "      <td>0.020460</td>\n",
       "      <td>0.534247</td>\n",
       "      <td>1.124537</td>\n",
       "      <td>0.002266</td>\n",
       "      <td>1.127031</td>\n",
       "    </tr>\n",
       "    <tr>\n",
       "      <td>9</td>\n",
       "      <td>(Medialuna)</td>\n",
       "      <td>(Coffee)</td>\n",
       "      <td>0.061379</td>\n",
       "      <td>0.475081</td>\n",
       "      <td>0.034939</td>\n",
       "      <td>0.569231</td>\n",
       "      <td>1.198175</td>\n",
       "      <td>0.005779</td>\n",
       "      <td>1.218561</td>\n",
       "    </tr>\n",
       "    <tr>\n",
       "      <td>11</td>\n",
       "      <td>(NONE)</td>\n",
       "      <td>(Coffee)</td>\n",
       "      <td>0.079005</td>\n",
       "      <td>0.475081</td>\n",
       "      <td>0.042073</td>\n",
       "      <td>0.532537</td>\n",
       "      <td>1.120938</td>\n",
       "      <td>0.004539</td>\n",
       "      <td>1.122908</td>\n",
       "    </tr>\n",
       "    <tr>\n",
       "      <td>12</td>\n",
       "      <td>(Pastry)</td>\n",
       "      <td>(Coffee)</td>\n",
       "      <td>0.085510</td>\n",
       "      <td>0.475081</td>\n",
       "      <td>0.047214</td>\n",
       "      <td>0.552147</td>\n",
       "      <td>1.162216</td>\n",
       "      <td>0.006590</td>\n",
       "      <td>1.172079</td>\n",
       "    </tr>\n",
       "    <tr>\n",
       "      <td>14</td>\n",
       "      <td>(Sandwich)</td>\n",
       "      <td>(Coffee)</td>\n",
       "      <td>0.071346</td>\n",
       "      <td>0.475081</td>\n",
       "      <td>0.037981</td>\n",
       "      <td>0.532353</td>\n",
       "      <td>1.120551</td>\n",
       "      <td>0.004086</td>\n",
       "      <td>1.122468</td>\n",
       "    </tr>\n",
       "    <tr>\n",
       "      <td>19</td>\n",
       "      <td>(Toast)</td>\n",
       "      <td>(Coffee)</td>\n",
       "      <td>0.033365</td>\n",
       "      <td>0.475081</td>\n",
       "      <td>0.023502</td>\n",
       "      <td>0.704403</td>\n",
       "      <td>1.482699</td>\n",
       "      <td>0.007651</td>\n",
       "      <td>1.775789</td>\n",
       "    </tr>\n",
       "  </tbody>\n",
       "</table>\n",
       "</div>"
      ],
      "text/plain": [
       "    antecedents consequents  antecedent support  consequent support   support  \\\n",
       "2        (Cake)    (Coffee)            0.103137            0.475081  0.054349   \n",
       "7       (Juice)    (Coffee)            0.038296            0.475081  0.020460   \n",
       "9   (Medialuna)    (Coffee)            0.061379            0.475081  0.034939   \n",
       "11       (NONE)    (Coffee)            0.079005            0.475081  0.042073   \n",
       "12     (Pastry)    (Coffee)            0.085510            0.475081  0.047214   \n",
       "14   (Sandwich)    (Coffee)            0.071346            0.475081  0.037981   \n",
       "19      (Toast)    (Coffee)            0.033365            0.475081  0.023502   \n",
       "\n",
       "    confidence      lift  leverage  conviction  \n",
       "2     0.526958  1.109196  0.005350    1.109667  \n",
       "7     0.534247  1.124537  0.002266    1.127031  \n",
       "9     0.569231  1.198175  0.005779    1.218561  \n",
       "11    0.532537  1.120938  0.004539    1.122908  \n",
       "12    0.552147  1.162216  0.006590    1.172079  \n",
       "14    0.532353  1.120551  0.004086    1.122468  \n",
       "19    0.704403  1.482699  0.007651    1.775789  "
      ]
     },
     "execution_count": 16,
     "metadata": {},
     "output_type": "execute_result"
    }
   ],
   "source": [
    "rules[(rules[\"lift\"] > 1.1) & (rules[\"confidence\"] > 0.5) & (rules[\"support\"] > 0.02)]"
   ]
  },
  {
   "cell_type": "code",
   "execution_count": null,
   "metadata": {},
   "outputs": [],
   "source": []
  }
 ],
 "metadata": {
  "kernelspec": {
   "display_name": "Python 3",
   "language": "python",
   "name": "python3"
  },
  "language_info": {
   "codemirror_mode": {
    "name": "ipython",
    "version": 3
   },
   "file_extension": ".py",
   "mimetype": "text/x-python",
   "name": "python",
   "nbconvert_exporter": "python",
   "pygments_lexer": "ipython3",
   "version": "3.7.4"
  }
 },
 "nbformat": 4,
 "nbformat_minor": 4
}
